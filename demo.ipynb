{
 "cells": [
  {
   "cell_type": "markdown",
   "id": "e2a72405-4b11-4e2b-a8f4-34a0db8e089e",
   "metadata": {},
   "source": [
    "## Demo\n",
    "\n",
    "You might need to install the basic SpaCy model: `python -m spacy download en_core_web_sm`."
   ]
  },
  {
   "cell_type": "code",
   "execution_count": 1,
   "id": "40cc7b47-3f76-475c-9e7a-9853d8027eda",
   "metadata": {},
   "outputs": [],
   "source": [
    "from paraphrase_metrics import metrics as pm\n",
    "import spacy\n",
    "nlp = spacy.load(\"en_core_web_sm\")"
   ]
  },
  {
   "cell_type": "code",
   "execution_count": 2,
   "id": "7e5228a4-3687-402f-b848-e4b1ef6408af",
   "metadata": {},
   "outputs": [],
   "source": [
    "s = nlp(\"I went to the market in town yesterday.\")\n",
    "t = nlp(\"Yesterday, I went to the market in town.\")"
   ]
  },
  {
   "cell_type": "code",
   "execution_count": 3,
   "id": "83bd900f-8f1e-4f14-b5a5-1cca02c880d8",
   "metadata": {},
   "outputs": [
    {
     "name": "stdout",
     "output_type": "stream",
     "text": [
      "9.95 µs ± 74.4 ns per loop (mean ± std. dev. of 7 runs, 100,000 loops each)\n"
     ]
    }
   ],
   "source": [
    "%timeit pm.wpd(s,t)"
   ]
  },
  {
   "cell_type": "code",
   "execution_count": 4,
   "id": "65620fd1-c532-4e14-970d-ad2e2a0f4517",
   "metadata": {},
   "outputs": [
    {
     "name": "stdout",
     "output_type": "stream",
     "text": [
      "6.71 µs ± 32.3 ns per loop (mean ± std. dev. of 7 runs, 100,000 loops each)\n"
     ]
    }
   ],
   "source": [
    "%timeit pm.ld(s,t)"
   ]
  },
  {
   "cell_type": "code",
   "execution_count": null,
   "id": "bef8afdb-bcb9-40ea-a6ed-409b51d9bbe4",
   "metadata": {},
   "outputs": [],
   "source": []
  }
 ],
 "metadata": {
  "kernelspec": {
   "display_name": "Python 3 (ipykernel)",
   "language": "python",
   "name": "python3"
  },
  "language_info": {
   "codemirror_mode": {
    "name": "ipython",
    "version": 3
   },
   "file_extension": ".py",
   "mimetype": "text/x-python",
   "name": "python",
   "nbconvert_exporter": "python",
   "pygments_lexer": "ipython3",
   "version": "3.9.12"
  }
 },
 "nbformat": 4,
 "nbformat_minor": 5
}
